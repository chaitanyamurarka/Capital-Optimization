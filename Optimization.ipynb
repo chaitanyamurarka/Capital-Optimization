{
 "cells": [
  {
   "cell_type": "markdown",
   "metadata": {},
   "source": [
    "# User Input"
   ]
  },
  {
   "cell_type": "markdown",
   "metadata": {},
   "source": [
    "## How much initial capital we assume and for how many weeks to run the program . Defining higher number of weeks will require more computation time"
   ]
  },
  {
   "cell_type": "code",
   "execution_count": 1,
   "metadata": {},
   "outputs": [],
   "source": [
    "we = 52\n",
    "cap = 7000"
   ]
  },
  {
   "cell_type": "markdown",
   "metadata": {},
   "source": [
    "# Importing required Libraries"
   ]
  },
  {
   "cell_type": "code",
   "execution_count": 2,
   "metadata": {},
   "outputs": [],
   "source": [
    "import pandas as pd\n",
    "from pulp import *\n",
    "from num2words import *"
   ]
  },
  {
   "cell_type": "markdown",
   "metadata": {},
   "source": [
    "# Data Preprocessing"
   ]
  },
  {
   "cell_type": "code",
   "execution_count": 3,
   "metadata": {},
   "outputs": [],
   "source": [
    "inventory0 = pd.read_csv('inventory.csv')\n",
    "sales0 = pd.read_csv('Weekly-Sales.csv')\n",
    "productdesc0 = pd.read_csv('products.csv').set_index('Product_ID')\n",
    "stores0 = pd.read_csv('stores.csv')"
   ]
  },
  {
   "cell_type": "code",
   "execution_count": 4,
   "metadata": {},
   "outputs": [],
   "source": [
    "# Keeping More weeks will require more computation time\n",
    "week = [None]*(we)\n",
    "for i in range(1,(we+1)):\n",
    "    week[i-1] =i"
   ]
  },
  {
   "cell_type": "code",
   "execution_count": 5,
   "metadata": {},
   "outputs": [],
   "source": [
    "stores = [None]*50\n",
    "for i in range(0,50):\n",
    "    stores[i] = i+1\n",
    "products = [None]*35\n",
    "for i in range(0,35):\n",
    "    products[i]=i+1"
   ]
  },
  {
   "cell_type": "code",
   "execution_count": 6,
   "metadata": {},
   "outputs": [],
   "source": [
    "sales = {}\n",
    "for s in stores:\n",
    "    for p in products:\n",
    "        for w in week:\n",
    "            sales[(s,p,w)]=(sales0[(sales0['Store ID']==s)&(sales0['Product ID']==p)&(sales0['Week']==w)&(sales0['Year of Date']==2017)]['Count of sales'])\n",
    "            if len(sales[s,p,w]>0):\n",
    "                sales[s,p,w]=int(sales[s,p,w])\n",
    "            else:\n",
    "                sales[s,p,w]=0\n",
    "del sales0     "
   ]
  },
  {
   "cell_type": "code",
   "execution_count": 7,
   "metadata": {},
   "outputs": [],
   "source": [
    "openinginventory = {}\n",
    "for s in stores:\n",
    "    for p in products:\n",
    "        openinginventory[(s,p)]=inventory0[(inventory0['Store_ID']==s)&(inventory0['Product_ID']==p)]['Stock_On_Hand']\n",
    "        if len(openinginventory[(s,p)]>0):\n",
    "            openinginventory[(s,p)] = int(openinginventory[(s,p)])\n",
    "        else:\n",
    "            openinginventory[(s,p)] = 0\n",
    "del inventory0"
   ]
  },
  {
   "cell_type": "code",
   "execution_count": 8,
   "metadata": {},
   "outputs": [],
   "source": [
    "Pcost = {}\n",
    "Pprice = {}\n",
    "Pprofit = {}\n",
    "for p in products:\n",
    "    Pcost[p]=float(productdesc0.loc[p]['Product_Cost'][1:5])\n",
    "    Pprice[p]=float(productdesc0.loc[p]['Product_Price'][1:5])\n",
    "    Pprofit[p] = Pprice[p] - Pcost[p]"
   ]
  },
  {
   "cell_type": "markdown",
   "metadata": {},
   "source": [
    "# Model"
   ]
  },
  {
   "cell_type": "markdown",
   "metadata": {},
   "source": [
    "## After computation of results of every week , the result will be stored here in these dictionaries "
   ]
  },
  {
   "cell_type": "code",
   "execution_count": 9,
   "metadata": {},
   "outputs": [],
   "source": [
    "l = {} # Goods Sold\n",
    "t = {} # capital unused\n",
    "k = {} # Goods Bought\n",
    "u = {} # Inventory after buying weeks"
   ]
  },
  {
   "cell_type": "markdown",
   "metadata": {},
   "source": [
    "## Model for Week 1"
   ]
  },
  {
   "cell_type": "code",
   "execution_count": 10,
   "metadata": {},
   "outputs": [
    {
     "name": "stdout",
     "output_type": "stream",
     "text": [
      "Solution is : Optimal\n",
      "For week 1 profit is : 8321.71\n"
     ]
    }
   ],
   "source": [
    "# Defining our objective variable\n",
    "z = LpProblem('Maximum-Profit',LpMaximize)\n",
    "# Defining Decision variable\n",
    "x = LpVariable.dict('Buying',(stores,products,week),lowBound=0,cat='Integer')\n",
    "y = LpVariable.dict('Selling',(stores,products,week),lowBound=0,cat='Integer')\n",
    "capital_available = LpVariable.dict('Capital_Available',(week),lowBound=0,cat='Continous')\n",
    "capital_unused = LpVariable.dict('Capital_Unused',(week),lowBound=0,cat='Continous')\n",
    "inventory = LpVariable.dict('Inventory',(stores,products,week),lowBound=0,cat='Integer')\n",
    "# Objective Function\n",
    "z += lpSum(y[s,p,1]*Pprofit[p] for s in stores for p in products)\n",
    "# Constrains\n",
    "## We cannot spend more than available capital\n",
    "z += lpSum(x[s,p,1]*Pcost[p] for s in stores for p in products) + capital_unused[1] <= cap\n",
    "z += capital_unused[1] == cap - lpSum(x[s,p,1]*Pcost[p] for s in stores for p in products)\n",
    "for s in stores:\n",
    "    for p in products:\n",
    "        ## Goods bought are added to the inventory\n",
    "        z += inventory[s,p,1] == x[s,p,1]\n",
    "        ## We cannot sell more than demanded\n",
    "        z += y[s,p,1] <= sales[s,p,1]\n",
    "        ## We cannot sell more than we have in our inventory\n",
    "        z += y[s,p,1] <= inventory[s,p,1]\n",
    "status = z.solve()\n",
    "print(\"Solution is :\",LpStatus[status])\n",
    "for s in stores:\n",
    "    for p in products:\n",
    "        # Resolving the issue of over buying\n",
    "        if (x[s,p,1].varValue>sales[s,p,1]):\n",
    "            capital_unused[1].varValue = capital_unused[1].varValue + lpSum((x[s,p,1].varValue-sales[s,p,w])*Pcost[p])\n",
    "            x[s,p,1].varValue=sales[s,p,1]\n",
    "        # Products not selected are none so setting them to zero\n",
    "        if y[s,p,w].varValue is None:\n",
    "            y[s,p,w].varValue = 0\n",
    "        if x[s,p,w].varValue is None:\n",
    "            x[s,p,w].varValue = 0\n",
    "        if inventory[s,p,w].varValue is None:\n",
    "            inventory[s,p,w].varValue = 0\n",
    "        # Passing the decision variables to dictionary \n",
    "        l[s,p,1]=y[s,p,1].varValue\n",
    "        k[s,p,1]=x[s,p,1].varValue\n",
    "        u[s,p,1]=inventory[s,p,1].varValue\n",
    "t[1] = capital_unused[1].varValue\n",
    "# Printing result\n",
    "print(\"For week 1 profit is :\",lpSum(l[s,p,1]*Pprofit[p] for s in stores for p in products))"
   ]
  },
  {
   "cell_type": "markdown",
   "metadata": {},
   "source": [
    "## Model for Remaining weeks"
   ]
  },
  {
   "cell_type": "code",
   "execution_count": 11,
   "metadata": {},
   "outputs": [
    {
     "name": "stdout",
     "output_type": "stream",
     "text": [
      "Solution is : Optimal\n",
      "For week 2 profit is : 14300.19\n",
      "Solution is : Optimal\n",
      "For week 3 profit is : 21481.269999999986\n",
      "Solution is : Optimal\n",
      "For week 4 profit is : 26338.269999999982\n",
      "Solution is : Optimal\n",
      "For week 5 profit is : 29255.309999999987\n",
      "Solution is : Optimal\n",
      "For week 6 profit is : 29689.66999999997\n",
      "Solution is : Optimal\n",
      "For week 7 profit is : 30622.779999999988\n",
      "Solution is : Optimal\n",
      "For week 8 profit is : 29254.26\n",
      "Solution is : Optimal\n",
      "For week 9 profit is : 33808.729999999974\n",
      "Solution is : Optimal\n",
      "For week 10 profit is : 28932.97999999999\n",
      "Solution is : Optimal\n",
      "For week 11 profit is : 31875.299999999992\n",
      "Solution is : Optimal\n",
      "For week 12 profit is : 28365.629999999983\n",
      "Solution is : Optimal\n",
      "For week 13 profit is : 28307.469999999994\n",
      "Solution is : Optimal\n",
      "For week 14 profit is : 31062.759999999987\n",
      "Solution is : Optimal\n",
      "For week 15 profit is : 35941.57\n",
      "Solution is : Optimal\n",
      "For week 16 profit is : 28250.519999999986\n",
      "Solution is : Optimal\n",
      "For week 17 profit is : 31671.80999999998\n",
      "Solution is : Optimal\n",
      "For week 18 profit is : 35897.789999999986\n",
      "Solution is : Optimal\n",
      "For week 19 profit is : 31406.35000000001\n",
      "Solution is : Optimal\n",
      "For week 20 profit is : 34356.199999999975\n",
      "Solution is : Optimal\n",
      "For week 21 profit is : 32995.55\n",
      "Solution is : Optimal\n",
      "For week 22 profit is : 34326.600000000006\n",
      "Solution is : Optimal\n",
      "For week 23 profit is : 32992.06\n",
      "Solution is : Optimal\n",
      "For week 24 profit is : 34242.76999999999\n",
      "Solution is : Optimal\n",
      "For week 25 profit is : 34728.28999999997\n",
      "Solution is : Optimal\n",
      "For week 26 profit is : 35274.82\n",
      "Solution is : Optimal\n",
      "For week 27 profit is : 29991.61999999999\n",
      "Solution is : Optimal\n",
      "For week 28 profit is : 31360.750000000007\n",
      "Solution is : Optimal\n",
      "For week 29 profit is : 30815.509999999984\n",
      "Solution is : Optimal\n",
      "For week 30 profit is : 29664.93999999999\n",
      "Solution is : Optimal\n",
      "For week 31 profit is : 32847.38999999999\n",
      "Solution is : Optimal\n",
      "For week 32 profit is : 27560.309999999994\n",
      "Solution is : Optimal\n",
      "For week 33 profit is : 29020.01999999998\n",
      "Solution is : Optimal\n",
      "For week 34 profit is : 27872.239999999994\n",
      "Solution is : Optimal\n",
      "For week 35 profit is : 27896.699999999993\n",
      "Solution is : Optimal\n",
      "For week 36 profit is : 28419.189999999984\n",
      "Solution is : Optimal\n",
      "For week 37 profit is : 32020.239999999987\n",
      "Solution is : Optimal\n",
      "For week 38 profit is : 31977.659999999974\n",
      "Solution is : Optimal\n",
      "For week 39 profit is : 30369.709999999966\n",
      "Solution is : Optimal\n",
      "For week 40 profit is : 29025.09999999999\n",
      "Solution is : Optimal\n",
      "For week 41 profit is : 32076.389999999985\n",
      "Solution is : Optimal\n",
      "For week 42 profit is : 32538.399999999994\n",
      "Solution is : Optimal\n",
      "For week 43 profit is : 32962.11999999998\n",
      "Solution is : Optimal\n",
      "For week 44 profit is : 36643.58999999998\n",
      "Solution is : Optimal\n",
      "For week 45 profit is : 30980.599999999977\n",
      "Solution is : Optimal\n",
      "For week 46 profit is : 37342.38999999998\n",
      "Solution is : Optimal\n",
      "For week 47 profit is : 38108.380000000005\n",
      "Solution is : Optimal\n",
      "For week 48 profit is : 35845.73999999999\n",
      "Solution is : Optimal\n",
      "For week 49 profit is : 38033.67000000001\n",
      "Solution is : Optimal\n",
      "For week 50 profit is : 40032.21\n",
      "Solution is : Optimal\n",
      "For week 51 profit is : 43026.950000000004\n",
      "Solution is : Optimal\n",
      "For week 52 profit is : 45406.65000000002\n"
     ]
    }
   ],
   "source": [
    "# Iteratively solving for every week\n",
    "for w in range(2,we+1):\n",
    "    # Defining our objective variable\n",
    "    z = LpProblem('Maximum-Profit',LpMaximize)\n",
    "    # Decision Variables\n",
    "    x = LpVariable.dict('Buying',(stores,products,week),lowBound=0,cat='Integer')\n",
    "    y = LpVariable.dict('Selling',(stores,products,week),lowBound=0,cat='Integer')\n",
    "    capital_available = LpVariable.dict('Capital_Available',(week),lowBound=0,cat='Continous')\n",
    "    capital_unused = LpVariable.dict('Capital_Unused',(week),lowBound=0,cat='Continous')\n",
    "    inventory = LpVariable.dict('Inventory',(stores,products,week),lowBound=0,cat='Integer')\n",
    "    # Objective Function\n",
    "    z += lpSum(y[s,p,w]*Pprofit[p] for s in stores for p in products)\n",
    "    # Capital of this a is revenue of previous week and capital unused of previous week\n",
    "    z += capital_available[w] == lpSum(l[s,p,w-1]*Pprice[p] for s in stores for p in products) + t[w-1]\n",
    "    # We cannot buy goods worth more than capital we have\n",
    "    z += lpSum(x[s,p,w]*Pcost[p] for s in stores for p in products) + capital_unused[w] <= capital_available[w]\n",
    "    z += capital_unused[w] == capital_available[w] - lpSum(x[s,p,w]*Pcost[p] for s in stores for p in products)\n",
    "    for s in stores: \n",
    "        for p in products:\n",
    "           # Adds up to the inventory\n",
    "           z += inventory[s,p,w] == x[s,p,w]\n",
    "           # We cannot sell more than demanded\n",
    "           z += y[s,p,w] <= sales[s,p,w]\n",
    "           # Cannot sell more than inventory\n",
    "           z += y[s,p,w] <= inventory[s,p,w]\n",
    "           ## We cannot purchase more than demanded\n",
    "           #z += x[s,p,w] <= sales[s,p,w]\n",
    "    status = z.solve()       \n",
    "    print(\"Solution is :\",LpStatus[status])\n",
    "    # Passing the decision variables to dictionary\n",
    "    for s in stores:\n",
    "        for p in products:\n",
    "            # Resolving the issue of over buying\n",
    "            if (x[s,p,w].varValue>sales[s,p,w]):\n",
    "                capital_unused[w].varValue = capital_unused[w].varValue + lpSum((x[s,p,w].varValue-sales[s,p,w])*Pcost[p])\n",
    "                x[s,p,w].varValue=sales[s,p,w]\n",
    "            # Products not selected are none so setting them to zero\n",
    "            if y[s,p,w].varValue is None:\n",
    "                y[s,p,w].varValue = 0\n",
    "            if x[s,p,w].varValue is None:\n",
    "                x[s,p,w].varValue = 0\n",
    "            if inventory[s,p,w].varValue is None:\n",
    "                inventory[s,p,w].varValue = 0\n",
    "            # Passing the decision variables to dictionary \n",
    "            l[s,p,w]=y[s,p,w].varValue\n",
    "            k[s,p,w]=x[s,p,w].varValue\n",
    "            u[s,p,w]=inventory[s,p,w].varValue\n",
    "    t[w] = capital_unused[w].varValue\n",
    "    # Printing result\n",
    "    print(\"For week\",w,\"profit is :\",lpSum(y[s,p,w].varValue*Pprofit[p] for s in stores for p in products))\n"
   ]
  },
  {
   "cell_type": "code",
   "execution_count": 13,
   "metadata": {},
   "outputs": [],
   "source": [
    "del x\n",
    "del y\n",
    "del inventory\n",
    "del capital_available\n",
    "del capital_unused"
   ]
  },
  {
   "cell_type": "markdown",
   "metadata": {},
   "source": [
    "# Analyzing our Result"
   ]
  },
  {
   "cell_type": "code",
   "execution_count": 14,
   "metadata": {},
   "outputs": [
    {
     "name": "stdout",
     "output_type": "stream",
     "text": [
      "Profit of 52 weeks is : 1590132\n",
      "Profit in Words : fifteen lakh, ninety thousand, one hundred and thirty-two\n"
     ]
    }
   ],
   "source": [
    "profit = round(value(lpSum(l[s,p,w]*Pprofit[p] for s in stores for p in products for w in range(1,we))))\n",
    "print(\"Profit of\",we,\"weeks is :\",profit)\n",
    "print(\"Profit in Words :\",(num2words(profit,lang='en_IN')))"
   ]
  },
  {
   "cell_type": "code",
   "execution_count": 15,
   "metadata": {},
   "outputs": [
    {
     "name": "stdout",
     "output_type": "stream",
     "text": [
      "Maximum possible profit in 52 weeks is : 1675908\n",
      "Max possible Profit in Words : sixteen lakh, seventy-five thousand, nine hundred and eight\n"
     ]
    }
   ],
   "source": [
    "max_profit = round(value(lpSum(sales[s,p,w]*Pprofit[p] for s in stores for p in products for w in week)))\n",
    "print(\"Maximum possible profit in\",we,\"weeks is :\",max_profit)\n",
    "print(\"Max possible Profit in Words :\",(num2words(max_profit,lang='en_IN')))"
   ]
  },
  {
   "cell_type": "code",
   "execution_count": 16,
   "metadata": {},
   "outputs": [
    {
     "name": "stdout",
     "output_type": "stream",
     "text": [
      "\n",
      "Capital Available in week 1 : 7000\n",
      "Capital Required in week 1 : 73571.75\n",
      "Capital Used in week 1 : 6999.18\n",
      "Capital Not Used in week 1 : 0.82\n",
      "Revenue of week for sales 1 : 15320.890000000001\n",
      "Profit of week 1 : 8321.71\n",
      "\n",
      "Capital Available in week 2 : 15321.710000000001\n",
      "Capital Required in week 2 : 61901.439999999966\n",
      "Capital Used in week 2 : 15321.48\n",
      "Capital Not Used in week 2 : 0.23\n",
      "Revenue of week for sales 2 : 29621.66999999999\n",
      "Profit of week 2 : 14300.19\n",
      "\n",
      "Capital Available in week 3 : 29621.89999999999\n",
      "Capital Required in week 3 : 66469.01000000005\n",
      "Capital Used in week 3 : 29621.85\n",
      "Capital Not Used in week 3 : 0.05\n",
      "Revenue of week for sales 3 : 51103.12000000003\n",
      "Profit of week 3 : 21481.269999999986\n",
      "\n",
      "Capital Available in week 4 : 51103.170000000035\n",
      "Capital Required in week 4 : 69357.11999999997\n",
      "Capital Used in week 4 : 51101.05999999994\n",
      "Capital Not Used in week 4 : 2.11\n",
      "Revenue of week for sales 4 : 77439.32999999999\n",
      "Profit of week 4 : 26338.269999999982\n",
      "\n",
      "Capital Available in week 5 : 77441.43999999999\n",
      "Capital Required in week 5 : 73595.56999999998\n",
      "Capital Used in week 5 : 73595.56999999998\n",
      "Capital Not Used in week 5 : 3845.87\n",
      "Revenue of week for sales 5 : 102850.88000000006\n",
      "Profit of week 5 : 29255.309999999987\n",
      "\n",
      "Capital Available in week 6 : 106696.75000000006\n",
      "Capital Required in week 6 : 76265.17999999996\n",
      "Capital Used in week 6 : 76265.17999999996\n",
      "Capital Not Used in week 6 : 30431.57\n",
      "Revenue of week for sales 6 : 105954.84999999998\n",
      "Profit of week 6 : 29689.66999999997\n",
      "\n",
      "Capital Available in week 7 : 136386.41999999998\n",
      "Capital Required in week 7 : 75078.81999999999\n",
      "Capital Used in week 7 : 75078.81999999999\n",
      "Capital Not Used in week 7 : 61307.6\n",
      "Revenue of week for sales 7 : 105701.59999999993\n",
      "Profit of week 7 : 30622.779999999988\n",
      "\n",
      "Capital Available in week 8 : 167009.19999999992\n",
      "Capital Required in week 8 : 72042.3300000001\n",
      "Capital Used in week 8 : 72042.3300000001\n",
      "Capital Not Used in week 8 : 94966.87000000001\n",
      "Revenue of week for sales 8 : 101296.59000000003\n",
      "Profit of week 8 : 29254.26\n",
      "\n",
      "Capital Available in week 9 : 196263.46000000002\n",
      "Capital Required in week 9 : 77892.31000000003\n",
      "Capital Used in week 9 : 77892.31000000003\n",
      "Capital Not Used in week 9 : 118371.15\n",
      "Revenue of week for sales 9 : 111701.04000000012\n",
      "Profit of week 9 : 33808.729999999974\n",
      "\n",
      "Capital Available in week 10 : 230072.19000000012\n",
      "Capital Required in week 10 : 67088.25000000006\n",
      "Capital Used in week 10 : 67088.25000000006\n",
      "Capital Not Used in week 10 : 162983.94\n",
      "Revenue of week for sales 10 : 96021.22999999998\n",
      "Profit of week 10 : 28932.97999999999\n",
      "\n",
      "Capital Available in week 11 : 259005.16999999998\n",
      "Capital Required in week 11 : 87193.48999999998\n",
      "Capital Used in week 11 : 87193.48999999998\n",
      "Capital Not Used in week 11 : 171811.68\n",
      "Revenue of week for sales 11 : 119068.79\n",
      "Profit of week 11 : 31875.299999999992\n",
      "\n",
      "Capital Available in week 12 : 290880.47\n",
      "Capital Required in week 12 : 72722.67000000006\n",
      "Capital Used in week 12 : 72722.67000000006\n",
      "Capital Not Used in week 12 : 218157.79999999996\n",
      "Revenue of week for sales 12 : 101088.30000000009\n",
      "Profit of week 12 : 28365.629999999983\n",
      "\n",
      "Capital Available in week 13 : 319246.10000000003\n",
      "Capital Required in week 13 : 73419.42999999996\n",
      "Capital Used in week 13 : 73419.42999999996\n",
      "Capital Not Used in week 13 : 245826.66999999998\n",
      "Revenue of week for sales 13 : 101726.89999999989\n",
      "Profit of week 13 : 28307.469999999994\n",
      "\n",
      "Capital Available in week 14 : 347553.5699999999\n",
      "Capital Required in week 14 : 76850.56999999995\n",
      "Capital Used in week 14 : 76850.56999999995\n",
      "Capital Not Used in week 14 : 270703.0\n",
      "Revenue of week for sales 14 : 107913.32999999996\n",
      "Profit of week 14 : 31062.759999999987\n",
      "\n",
      "Capital Available in week 15 : 378616.32999999996\n",
      "Capital Required in week 15 : 95051.19999999998\n",
      "Capital Used in week 15 : 95051.19999999998\n",
      "Capital Not Used in week 15 : 283565.13\n",
      "Revenue of week for sales 15 : 130992.76999999997\n",
      "Profit of week 15 : 35941.57\n",
      "\n",
      "Capital Available in week 16 : 414557.89999999997\n",
      "Capital Required in week 16 : 77053.07999999999\n",
      "Capital Used in week 16 : 77053.07999999999\n",
      "Capital Not Used in week 16 : 337504.82\n",
      "Revenue of week for sales 16 : 105303.59999999989\n",
      "Profit of week 16 : 28250.519999999986\n",
      "\n",
      "Capital Available in week 17 : 442808.4199999999\n",
      "Capital Required in week 17 : 80814.27000000006\n",
      "Capital Used in week 17 : 80814.27000000006\n",
      "Capital Not Used in week 17 : 361994.15\n",
      "Revenue of week for sales 17 : 112486.08000000007\n",
      "Profit of week 17 : 31671.80999999998\n",
      "\n",
      "Capital Available in week 18 : 474480.2300000001\n",
      "Capital Required in week 18 : 103252.21999999999\n",
      "Capital Used in week 18 : 103252.21999999999\n",
      "Capital Not Used in week 18 : 371228.01\n",
      "Revenue of week for sales 18 : 139150.0100000002\n",
      "Profit of week 18 : 35897.789999999986\n",
      "\n",
      "Capital Available in week 19 : 510378.02000000025\n",
      "Capital Required in week 19 : 84889.60999999999\n",
      "Capital Used in week 19 : 84889.60999999999\n",
      "Capital Not Used in week 19 : 425488.41\n",
      "Revenue of week for sales 19 : 116295.95999999999\n",
      "Profit of week 19 : 31406.35000000001\n",
      "\n",
      "Capital Available in week 20 : 541784.37\n",
      "Capital Required in week 20 : 86985.05000000005\n",
      "Capital Used in week 20 : 86985.05000000005\n",
      "Capital Not Used in week 20 : 454799.31999999995\n",
      "Revenue of week for sales 20 : 121341.24999999997\n",
      "Profit of week 20 : 34356.199999999975\n",
      "\n",
      "Capital Available in week 21 : 576140.57\n",
      "Capital Required in week 21 : 83878.45000000008\n",
      "Capital Used in week 21 : 83878.45000000008\n",
      "Capital Not Used in week 21 : 492262.12\n",
      "Revenue of week for sales 21 : 116874.0\n",
      "Profit of week 21 : 32995.55\n",
      "\n",
      "Capital Available in week 22 : 609136.12\n",
      "Capital Required in week 22 : 87615.42999999993\n",
      "Capital Used in week 22 : 87615.42999999993\n",
      "Capital Not Used in week 22 : 521520.68999999994\n",
      "Revenue of week for sales 22 : 121942.02999999991\n",
      "Profit of week 22 : 34326.600000000006\n",
      "\n",
      "Capital Available in week 23 : 643462.7199999999\n",
      "Capital Required in week 23 : 86681.58\n",
      "Capital Used in week 23 : 86681.58\n",
      "Capital Not Used in week 23 : 556781.14\n",
      "Revenue of week for sales 23 : 119673.63999999994\n",
      "Profit of week 23 : 32992.06\n",
      "\n",
      "Capital Available in week 24 : 676454.7799999999\n",
      "Capital Required in week 24 : 87259.23000000003\n",
      "Capital Used in week 24 : 87259.23000000003\n",
      "Capital Not Used in week 24 : 589195.55\n",
      "Revenue of week for sales 24 : 121501.99999999997\n",
      "Profit of week 24 : 34242.76999999999\n",
      "\n",
      "Capital Available in week 25 : 710697.55\n",
      "Capital Required in week 25 : 82232.57999999994\n",
      "Capital Used in week 25 : 82232.57999999994\n",
      "Capital Not Used in week 25 : 628464.9700000001\n",
      "Revenue of week for sales 25 : 116960.86999999997\n",
      "Profit of week 25 : 34728.28999999997\n",
      "\n",
      "Capital Available in week 26 : 745425.8400000001\n",
      "Capital Required in week 26 : 83027.13000000002\n",
      "Capital Used in week 26 : 83027.13000000002\n",
      "Capital Not Used in week 26 : 662398.71\n",
      "Revenue of week for sales 26 : 118301.94999999995\n",
      "Profit of week 26 : 35274.82\n",
      "\n",
      "Capital Available in week 27 : 780700.6599999999\n",
      "Capital Required in week 27 : 67491.00000000004\n",
      "Capital Used in week 27 : 67491.00000000004\n",
      "Capital Not Used in week 27 : 713209.66\n",
      "Revenue of week for sales 27 : 97482.61999999995\n",
      "Profit of week 27 : 29991.61999999999\n",
      "\n",
      "Capital Available in week 28 : 810692.28\n",
      "Capital Required in week 28 : 64696.300000000076\n",
      "Capital Used in week 28 : 64696.300000000076\n",
      "Capital Not Used in week 28 : 745995.98\n",
      "Revenue of week for sales 28 : 96057.05000000006\n",
      "Profit of week 28 : 31360.750000000007\n",
      "\n",
      "Capital Available in week 29 : 842053.03\n",
      "Capital Required in week 29 : 64212.35000000002\n",
      "Capital Used in week 29 : 64212.35000000002\n",
      "Capital Not Used in week 29 : 777840.6799999999\n",
      "Revenue of week for sales 29 : 95027.86000000009\n",
      "Profit of week 29 : 30815.509999999984\n",
      "\n",
      "Capital Available in week 30 : 872868.54\n",
      "Capital Required in week 30 : 64498.44999999993\n",
      "Capital Used in week 30 : 64498.44999999993\n",
      "Capital Not Used in week 30 : 808370.0900000001\n",
      "Revenue of week for sales 30 : 94163.38999999988\n",
      "Profit of week 30 : 29664.93999999999\n",
      "\n",
      "Capital Available in week 31 : 902533.48\n",
      "Capital Required in week 31 : 65760.92000000001\n",
      "Capital Used in week 31 : 65760.92000000001\n",
      "Capital Not Used in week 31 : 836772.5599999999\n",
      "Revenue of week for sales 31 : 98608.31000000001\n",
      "Profit of week 31 : 32847.38999999999\n",
      "\n",
      "Capital Available in week 32 : 935380.87\n",
      "Capital Required in week 32 : 58124.82000000001\n",
      "Capital Used in week 32 : 58124.82000000001\n",
      "Capital Not Used in week 32 : 877256.05\n",
      "Revenue of week for sales 32 : 85685.1300000001\n",
      "Profit of week 32 : 27560.309999999994\n",
      "\n",
      "Capital Available in week 33 : 962941.1800000002\n",
      "Capital Required in week 33 : 60509.38000000005\n",
      "Capital Used in week 33 : 60509.38000000005\n",
      "Capital Not Used in week 33 : 902431.8\n",
      "Revenue of week for sales 33 : 89529.4\n",
      "Profit of week 33 : 29020.01999999998\n",
      "\n",
      "Capital Available in week 34 : 991961.2000000001\n",
      "Capital Required in week 34 : 65450.28000000001\n",
      "Capital Used in week 34 : 65450.28000000001\n",
      "Capital Not Used in week 34 : 926510.92\n",
      "Revenue of week for sales 34 : 93322.52000000008\n",
      "Profit of week 34 : 27872.239999999994\n",
      "\n",
      "Capital Available in week 35 : 1019833.4400000002\n",
      "Capital Required in week 35 : 65910.0\n",
      "Capital Used in week 35 : 65910.0\n",
      "Capital Not Used in week 35 : 953923.4400000001\n",
      "Revenue of week for sales 35 : 93806.7000000001\n",
      "Profit of week 35 : 27896.699999999993\n",
      "\n",
      "Capital Available in week 36 : 1047730.1400000001\n",
      "Capital Required in week 36 : 73254.68000000005\n",
      "Capital Used in week 36 : 73254.68000000005\n",
      "Capital Not Used in week 36 : 974475.46\n",
      "Revenue of week for sales 36 : 101673.87000000011\n",
      "Profit of week 36 : 28419.189999999984\n",
      "\n",
      "Capital Available in week 37 : 1076149.33\n",
      "Capital Required in week 37 : 86676.14999999998\n",
      "Capital Used in week 37 : 86676.14999999998\n",
      "Capital Not Used in week 37 : 989473.18\n",
      "Revenue of week for sales 37 : 118696.38999999996\n",
      "Profit of week 37 : 32020.239999999987\n",
      "\n",
      "Capital Available in week 38 : 1108169.57\n",
      "Capital Required in week 38 : 78896.07000000004\n",
      "Capital Used in week 38 : 78896.07000000004\n",
      "Capital Not Used in week 38 : 1029273.5\n",
      "Revenue of week for sales 38 : 110873.73\n",
      "Profit of week 38 : 31977.659999999974\n",
      "\n",
      "Capital Available in week 39 : 1140147.23\n",
      "Capital Required in week 39 : 82873.61000000002\n",
      "Capital Used in week 39 : 82873.61000000002\n",
      "Capital Not Used in week 39 : 1057273.6199999999\n",
      "Revenue of week for sales 39 : 113243.32000000008\n",
      "Profit of week 39 : 30369.709999999966\n",
      "\n",
      "Capital Available in week 40 : 1170516.94\n",
      "Capital Required in week 40 : 73113.97999999994\n",
      "Capital Used in week 40 : 73113.97999999994\n",
      "Capital Not Used in week 40 : 1097402.96\n",
      "Revenue of week for sales 40 : 102139.07999999993\n",
      "Profit of week 40 : 29025.09999999999\n",
      "\n",
      "Capital Available in week 41 : 1199542.0399999998\n",
      "Capital Required in week 41 : 85458.66000000006\n",
      "Capital Used in week 41 : 85458.66000000006\n",
      "Capital Not Used in week 41 : 1114083.3800000001\n",
      "Revenue of week for sales 41 : 117535.05000000015\n",
      "Profit of week 41 : 32076.389999999985\n",
      "\n",
      "Capital Available in week 42 : 1231618.4300000002\n",
      "Capital Required in week 42 : 80714.10999999996\n",
      "Capital Used in week 42 : 80714.10999999996\n",
      "Capital Not Used in week 42 : 1150904.32\n",
      "Revenue of week for sales 42 : 113252.50999999997\n",
      "Profit of week 42 : 32538.399999999994\n",
      "\n",
      "Capital Available in week 43 : 1264156.83\n",
      "Capital Required in week 43 : 82582.24999999999\n",
      "Capital Used in week 43 : 82582.24999999999\n",
      "Capital Not Used in week 43 : 1181574.5799999998\n",
      "Revenue of week for sales 43 : 115544.36999999995\n",
      "Profit of week 43 : 32962.11999999998\n",
      "\n",
      "Capital Available in week 44 : 1297118.9499999997\n",
      "Capital Required in week 44 : 96893.93999999987\n",
      "Capital Used in week 44 : 96893.93999999987\n",
      "Capital Not Used in week 44 : 1200225.01\n",
      "Revenue of week for sales 44 : 133537.52999999994\n",
      "Profit of week 44 : 36643.58999999998\n",
      "\n",
      "Capital Available in week 45 : 1333762.54\n",
      "Capital Required in week 45 : 80411.39000000006\n",
      "Capital Used in week 45 : 80411.39000000006\n",
      "Capital Not Used in week 45 : 1253351.15\n",
      "Revenue of week for sales 45 : 111391.99000000012\n",
      "Profit of week 45 : 30980.599999999977\n",
      "\n",
      "Capital Available in week 46 : 1364743.1400000001\n",
      "Capital Required in week 46 : 94844.04999999994\n",
      "Capital Used in week 46 : 94844.04999999994\n",
      "Capital Not Used in week 46 : 1269899.0899999999\n",
      "Revenue of week for sales 46 : 132186.43999999997\n",
      "Profit of week 46 : 37342.38999999998\n",
      "\n",
      "Capital Available in week 47 : 1402085.5299999998\n",
      "Capital Required in week 47 : 93423.65000000008\n",
      "Capital Used in week 47 : 93423.65000000008\n",
      "Capital Not Used in week 47 : 1308661.879999998\n",
      "Revenue of week for sales 47 : 131532.03000000003\n",
      "Profit of week 47 : 38108.380000000005\n",
      "\n",
      "Capital Available in week 48 : 1440193.909999998\n",
      "Capital Required in week 48 : 95042.07999999999\n",
      "Capital Used in week 48 : 95042.07999999999\n",
      "Capital Not Used in week 48 : 1345151.8299999998\n",
      "Revenue of week for sales 48 : 130887.8200000001\n",
      "Profit of week 48 : 35845.73999999999\n",
      "\n",
      "Capital Available in week 49 : 1476039.65\n",
      "Capital Required in week 49 : 98129.82\n",
      "Capital Used in week 49 : 98129.82\n",
      "Capital Not Used in week 49 : 1377909.83\n",
      "Revenue of week for sales 49 : 136163.49\n",
      "Profit of week 49 : 38033.67000000001\n",
      "\n",
      "Capital Available in week 50 : 1514073.32\n",
      "Capital Required in week 50 : 107405.35999999996\n",
      "Capital Used in week 50 : 107405.35999999996\n",
      "Capital Not Used in week 50 : 1406667.96\n",
      "Revenue of week for sales 50 : 147437.56999999998\n",
      "Profit of week 50 : 40032.21\n",
      "\n",
      "Capital Available in week 51 : 1554105.53\n",
      "Capital Required in week 51 : 108735.36000000015\n",
      "Capital Used in week 51 : 108735.36000000015\n",
      "Capital Not Used in week 51 : 1445370.17\n",
      "Revenue of week for sales 51 : 151762.31000000017\n",
      "Profit of week 51 : 43026.950000000004\n",
      "\n",
      "Capital Available in week 52 : 1597132.48\n",
      "Capital Required in week 52 : 113762.8099999999\n",
      "Capital Used in week 52 : 113762.8099999999\n",
      "Capital Not Used in week 52 : 1483369.6700000002\n",
      "Revenue of week for sales 52 : 159169.4600000001\n",
      "Profit of week 52 : 45406.65000000002\n"
     ]
    }
   ],
   "source": [
    "for w in range(1,2):\n",
    "    # Capital of Week depends on previous week revenue and unused capital\n",
    "    print(\"\\nCapital Available in week\",w,\":\",cap)\n",
    "    # Capital required in week is Demand * Cost\n",
    "    print(\"Capital Required in week\",w,\":\",lpSum(sales[s,p,w]*Pcost[p] for s in stores for p in products))\n",
    "    # Capital used is Buyed * cost\n",
    "    print(\"Capital Used in week\",w,\":\",lpSum(k[s,p,w]*Pcost[p] for s in stores for p in products))\n",
    "    # Capital not used\n",
    "    print(\"Capital Not Used in week\",w,\":\",t[w])\n",
    "    # Sold * Price\n",
    "    print(\"Revenue of week for sales\",w,\":\",lpSum(l[s,p,w]*Pprice[p] for s in stores for p in products))\n",
    "    # Sold * Profit\n",
    "    print(\"Profit of week\",w,\":\",lpSum(l[s,p,w]*Pprofit[p] for s in stores for p in products))\n",
    "\n",
    "for w in range(2,we+1) :\n",
    "    # Capital of Week depends on previous week revenue and unused capital\n",
    "    print(\"\\nCapital Available in week\",w,\":\",value(lpSum(l[s,p,w-1]*Pprice[p] for s in stores for p in products)) + t[w-1])\n",
    "    # Capital required in week is Demand * Cos\n",
    "    print(\"Capital Required in week\",w,\":\",lpSum(sales[s,p,w]*Pcost[p] for s in stores for p in products))\n",
    "    # Capital used is Buyed * cost\n",
    "    print(\"Capital Used in week\",w,\":\",lpSum(k[s,p,w]*Pcost[p] for s in stores for p in products))\n",
    "    # Capital not used\n",
    "    print(\"Capital Not Used in week\",w,\":\",t[w])\n",
    "    # Sold * Price\n",
    "    print(\"Revenue of week for sales\",w,\":\",lpSum(l[s,p,w]*Pprice[p] for s in stores for p in products))\n",
    "    # Sold * Profit\n",
    "    print(\"Profit of week\",w,\":\",lpSum(l[s,p,w]*Pprofit[p] for s in stores for p in products))\n",
    "    "
   ]
  },
  {
   "cell_type": "markdown",
   "metadata": {},
   "source": [
    "# Key Performance Indicators"
   ]
  },
  {
   "cell_type": "markdown",
   "metadata": {},
   "source": [
    "## Inventory turnover ratio"
   ]
  },
  {
   "cell_type": "code",
   "execution_count": 17,
   "metadata": {},
   "outputs": [
    {
     "name": "stdout",
     "output_type": "stream",
     "text": [
      "Inventory was replaced 51.99999999999999 times in 52 weeks\n"
     ]
    }
   ],
   "source": [
    "cost_of_goods_sold = lpSum(l[s,p,w]*Pcost[p] for s in stores for p in products for w in week)\n",
    "avg_inventory = lpSum(l[s,p,w]*Pcost[p] for s in stores for p in products for w in week)*(1/we)\n",
    "inventory_turnover_ratio = cost_of_goods_sold/avg_inventory\n",
    "print(\"Inventory was replaced\",inventory_turnover_ratio,\"times in\",we,\"weeks\")"
   ]
  },
  {
   "cell_type": "markdown",
   "metadata": {},
   "source": [
    "## Revenue per unit"
   ]
  },
  {
   "cell_type": "code",
   "execution_count": 18,
   "metadata": {},
   "outputs": [
    {
     "name": "stdout",
     "output_type": "stream",
     "text": [
      "Revenue per unit is 13.923758890118343\n"
     ]
    }
   ],
   "source": [
    "total_revenue = lpSum(l[s,p,w]*Pprice[p] for s in stores for p in products for w in week)\n",
    "units = lpSum(l[s,p,w] for s in stores for p in products for w in week)\n",
    "revenue_per_unit = total_revenue/units\n",
    "print(\"Revenue per unit is\",revenue_per_unit)"
   ]
  },
  {
   "cell_type": "markdown",
   "metadata": {},
   "source": [
    "## Gross Margin Return on Investment\n",
    "The gross margin return on investment (GMROI) is an inventory profitability evaluation ratio that analyzes a firm's ability to turn inventory into cash above the cost of the inventory."
   ]
  },
  {
   "cell_type": "code",
   "execution_count": 20,
   "metadata": {},
   "outputs": [
    {
     "name": "stdout",
     "output_type": "stream",
     "text": [
      "We earned 5.640423461885956 times for every dollar of investment\n"
     ]
    }
   ],
   "source": [
    "storage_cost = value(total_revenue)*0.05\n",
    "gross_margin_roi = profit/storage_cost\n",
    "print(\"We earned\",gross_margin_roi,\"times for every dollar of investment\")"
   ]
  },
  {
   "cell_type": "markdown",
   "metadata": {},
   "source": [
    "## Order Fill rate"
   ]
  },
  {
   "cell_type": "code",
   "execution_count": 21,
   "metadata": {},
   "outputs": [
    {
     "name": "stdout",
     "output_type": "stream",
     "text": [
      "We were able to fullfill 96.72845404165871 of orders\n"
     ]
    }
   ],
   "source": [
    "total_orders = lpSum(sales[s,p,w] for s in stores for p in products for w in week)\n",
    "order_fill_rate = (units/total_orders)*100\n",
    "print(\"We were able to fullfill\",order_fill_rate,\"of orders\")"
   ]
  },
  {
   "cell_type": "markdown",
   "metadata": {},
   "source": [
    "# Conclusion"
   ]
  },
  {
   "cell_type": "markdown",
   "metadata": {},
   "source": [
    "We required initially a capital of $75000 but had only $7000 . We concentrated on how to use use those $7000 in week-1 so that we can have more capital in next week . This process was repeated for 52 weeks"
   ]
  }
 ],
 "metadata": {
  "kernelspec": {
   "display_name": "Python 3.11.0 64-bit",
   "language": "python",
   "name": "python3"
  },
  "language_info": {
   "codemirror_mode": {
    "name": "ipython",
    "version": 3
   },
   "file_extension": ".py",
   "mimetype": "text/x-python",
   "name": "python",
   "nbconvert_exporter": "python",
   "pygments_lexer": "ipython3",
   "version": "3.11.0"
  },
  "orig_nbformat": 4,
  "vscode": {
   "interpreter": {
    "hash": "5f80c455da1dc101d9f66a16923589bd6dbb3429340af280f1efed2f72025e97"
   }
  }
 },
 "nbformat": 4,
 "nbformat_minor": 2
}
