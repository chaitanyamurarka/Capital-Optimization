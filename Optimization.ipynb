{
 "cells": [
  {
   "cell_type": "code",
   "execution_count": 1,
   "metadata": {},
   "outputs": [],
   "source": [
    "we = int(input(\"Enter the number of Weeks to run the model\"))"
   ]
  },
  {
   "cell_type": "markdown",
   "metadata": {},
   "source": [
    "# Importing required Libraries"
   ]
  },
  {
   "cell_type": "code",
   "execution_count": 2,
   "metadata": {},
   "outputs": [],
   "source": [
    "import pandas as pd\n",
    "from pulp import *\n",
    "from num2words import *"
   ]
  },
  {
   "cell_type": "markdown",
   "metadata": {},
   "source": [
    "# Data Preprocessing"
   ]
  },
  {
   "cell_type": "code",
   "execution_count": 3,
   "metadata": {},
   "outputs": [],
   "source": [
    "inventory0 = pd.read_csv('inventory.csv')\n",
    "sales0 = pd.read_csv('Weekly-Sales.csv')\n",
    "productdesc0 = pd.read_csv('products.csv').set_index('Product_ID')\n",
    "stores0 = pd.read_csv('stores.csv')"
   ]
  },
  {
   "cell_type": "code",
   "execution_count": 4,
   "metadata": {},
   "outputs": [],
   "source": [
    "# Keeping More weeks will require more computation time\n",
    "week = [None]*(we+1)\n",
    "for i in range(0,(we+1)):\n",
    "    week[i] =i"
   ]
  },
  {
   "cell_type": "code",
   "execution_count": 5,
   "metadata": {},
   "outputs": [],
   "source": [
    "stores = [None]*50\n",
    "for i in range(0,50):\n",
    "    stores[i] = i+1\n",
    "products = [None]*35\n",
    "for i in range(0,35):\n",
    "    products[i]=i+1"
   ]
  },
  {
   "cell_type": "code",
   "execution_count": 6,
   "metadata": {},
   "outputs": [],
   "source": [
    "sales = {}\n",
    "for s in stores:\n",
    "    for p in products:\n",
    "        for w in week:\n",
    "            sales[(s,p,w)]=(sales0[(sales0['Store ID']==s)&(sales0['Product ID']==p)&(sales0['Week']==w)&(sales0['Year of Date']==2017)]['Count of sales'])\n",
    "            if len(sales[s,p,w]>0):\n",
    "                sales[s,p,w]=int(sales[s,p,w])\n",
    "            else:\n",
    "                sales[s,p,w]=0\n",
    "del sales0     "
   ]
  },
  {
   "cell_type": "code",
   "execution_count": 7,
   "metadata": {},
   "outputs": [],
   "source": [
    "openinginventory = {}\n",
    "for s in stores:\n",
    "    for p in products:\n",
    "        openinginventory[(s,p)]=inventory0[(inventory0['Store_ID']==s)&(inventory0['Product_ID']==p)]['Stock_On_Hand']\n",
    "        if len(openinginventory[(s,p)]>0):\n",
    "            openinginventory[(s,p)] = int(openinginventory[(s,p)])\n",
    "        else:\n",
    "            openinginventory[(s,p)] = 0\n",
    "del inventory0"
   ]
  },
  {
   "cell_type": "code",
   "execution_count": 8,
   "metadata": {},
   "outputs": [],
   "source": [
    "Pcost = {}\n",
    "Pprice = {}\n",
    "Pprofit = {}\n",
    "for p in products:\n",
    "    Pcost[p]=float(productdesc0.loc[p]['Product_Cost'][1:5])\n",
    "    Pprice[p]=float(productdesc0.loc[p]['Product_Price'][1:5])\n",
    "    Pprofit[p] = Pprice[p] - Pcost[p]\n"
   ]
  },
  {
   "cell_type": "markdown",
   "metadata": {},
   "source": [
    "# Model"
   ]
  },
  {
   "cell_type": "markdown",
   "metadata": {},
   "source": [
    "## Declaring Objective Variable"
   ]
  },
  {
   "cell_type": "code",
   "execution_count": 9,
   "metadata": {},
   "outputs": [],
   "source": [
    "# Objective Variable\n",
    "z = LpProblem('Maximize_the_profit',LpMaximize)"
   ]
  },
  {
   "cell_type": "markdown",
   "metadata": {},
   "source": [
    "## Decision Variables"
   ]
  },
  {
   "cell_type": "code",
   "execution_count": 10,
   "metadata": {},
   "outputs": [],
   "source": [
    "# Decision Variable\n",
    "x = LpVariable.dict('Buying',(stores,products,week),lowBound=0,cat='Integer')\n",
    "y = LpVariable.dict('Selling',(stores,products,week),lowBound=0,cat='Integer')\n",
    "capital_unused = LpVariable.dict('Selling',(week),lowBound=0,cat='Continous')\n",
    "inventory = LpVariable.dict('Inventory',(stores,products,week),lowBound=0,cat='Integer')"
   ]
  },
  {
   "cell_type": "markdown",
   "metadata": {},
   "source": [
    "## Objective Function"
   ]
  },
  {
   "cell_type": "code",
   "execution_count": 11,
   "metadata": {},
   "outputs": [],
   "source": [
    "# Objective Function\n",
    "# We want maximum profit in each week \n",
    "# We are doing false sales in week zero so ......\n",
    "z += lpSum(y[s,p,w]*Pprofit[p] for s in stores for p in products for w in week) - lpSum(y[s,p,0]*Pprofit[p] for s in stores for p in products)"
   ]
  },
  {
   "cell_type": "markdown",
   "metadata": {},
   "source": [
    "## Constraints"
   ]
  },
  {
   "cell_type": "markdown",
   "metadata": {},
   "source": [
    "### Constraints for Weeks 2 to 6"
   ]
  },
  {
   "cell_type": "code",
   "execution_count": 12,
   "metadata": {},
   "outputs": [],
   "source": [
    "for w in range(2,(we+1)):\n",
    "    # We Cannot Purchase more than Capital Available\n",
    "    z += lpSum(x[s,p,w]*Pcost[p] for s in stores for p in products) + capital_unused[w] == lpSum(y[s,p,w-1]*Pprice[p] for s in stores for p in products) + capital_unused[w-1] \n",
    "for s in stores:\n",
    "    for p in products:\n",
    "        for w in range(2,(we+1)):\n",
    "                z += inventory[s,p,w] == x[s,p,w]\n",
    "                z += y[s,p,w] <= sales[s,p,w]\n",
    "                z += y[s,p,w] <= inventory[s,p,w]"
   ]
  },
  {
   "cell_type": "markdown",
   "metadata": {},
   "source": [
    "### Constraints for Week 1"
   ]
  },
  {
   "cell_type": "code",
   "execution_count": 13,
   "metadata": {},
   "outputs": [],
   "source": [
    "for s in stores:\n",
    "    for p in products:\n",
    "        z += inventory[s,p,1] == openinginventory[s,p]\n",
    "        z += y[s,p,1] <= sales[s,p,1]\n",
    "        z += y[s,p,1] <= inventory[s,p,1]\n",
    "        z += capital_unused[1] == 0"
   ]
  },
  {
   "cell_type": "markdown",
   "metadata": {},
   "source": [
    "## Running our model"
   ]
  },
  {
   "cell_type": "code",
   "execution_count": 14,
   "metadata": {},
   "outputs": [
    {
     "name": "stdout",
     "output_type": "stream",
     "text": [
      "Solution is : Optimal\n",
      "The total profit is : 284063.9700000007\n",
      "Total Profit in Words : two lakh, eighty-four thousand and sixty-three point nine seven zero zero zero zero zero zero zero seven\n"
     ]
    }
   ],
   "source": [
    "status = z.solve()\n",
    "total_profit = value(z.objective)\n",
    "print(\"Solution is :\",LpStatus[status])\n",
    "print(\"The total profit is :\",total_profit)\n",
    "print(\"Total Profit in Words :\",(num2words(total_profit,lang='en_IN')))"
   ]
  },
  {
   "cell_type": "markdown",
   "metadata": {},
   "source": [
    "## Checking for any disperancy "
   ]
  },
  {
   "cell_type": "code",
   "execution_count": 15,
   "metadata": {},
   "outputs": [],
   "source": [
    "for w in range(1,(we+1)):\n",
    "    for s in stores:\n",
    "        for p in products:\n",
    "            if (y[s,p,w].varValue > sales[(s,p,w)]):\n",
    "                print(y[s,p,w],\":\",y[s,p,w].varValue,\"::\",sales[(s,p,w)])\n"
   ]
  },
  {
   "cell_type": "markdown",
   "metadata": {},
   "source": [
    "## Repairing the decision variable"
   ]
  },
  {
   "cell_type": "code",
   "execution_count": 16,
   "metadata": {},
   "outputs": [],
   "source": [
    "for s in stores:\n",
    "    for p in products:\n",
    "        for w in week:\n",
    "            if x[s,p,w].varValue is None:\n",
    "                x[s,p,w].varValue = 0"
   ]
  },
  {
   "cell_type": "markdown",
   "metadata": {},
   "source": [
    "# Analyzing our Result"
   ]
  },
  {
   "cell_type": "code",
   "execution_count": 17,
   "metadata": {},
   "outputs": [
    {
     "name": "stdout",
     "output_type": "stream",
     "text": [
      "\n",
      "Capital Available in week 1 : 0.0\n",
      "Capital Required in week 1 : 73571.75\n",
      "Capital Used in week 1 : 0.0\n",
      "Capital Not Used in week 1 : 0.0\n",
      "Revenue of week for sales 1 : 76039.68999999992\n",
      "Profit of week 1 : 20899.52999999998\n",
      "Opening Inventory Value of week  1 : 299056.0500000006\n",
      "Inventory value of week after Sales 1 : 243915.89000000068\n",
      "\n",
      "Capital Available in week 2 : 76039.68999999992\n",
      "Capital Required in week 2 : 61901.439999999966\n",
      "Capital Used in week 2 : 76038.52000000005\n",
      "Capital Not Used in week 2 : 1.17\n",
      "Revenue of week for sales 2 : 87821.92000000004\n",
      "Profit of week 2 : 25920.479999999992\n",
      "Opening Inventory Value of week  2 : 76038.52000000005\n",
      "Inventory value of week after Sales 2 : 14137.080000000082\n",
      "\n",
      "Capital Available in week 3 : 87821.92000000004\n",
      "Capital Required in week 3 : 66469.01000000005\n",
      "Capital Used in week 3 : 87821.50999999998\n",
      "Capital Not Used in week 3 : 1.58\n",
      "Revenue of week for sales 3 : 93753.32999999999\n",
      "Profit of week 3 : 27284.31999999999\n",
      "Opening Inventory Value of week  3 : 87821.50999999998\n",
      "Inventory value of week after Sales 3 : 21352.499999999927\n",
      "\n",
      "Capital Available in week 4 : 93753.32999999999\n",
      "Capital Required in week 4 : 69357.11999999997\n",
      "Capital Used in week 4 : 93753.69000000002\n",
      "Capital Not Used in week 4 : 1.22\n",
      "Revenue of week for sales 4 : 97753.02999999993\n",
      "Profit of week 4 : 28395.90999999998\n",
      "Opening Inventory Value of week  4 : 93753.69000000002\n",
      "Inventory value of week after Sales 4 : 24396.57000000005\n",
      "\n",
      "Capital Available in week 5 : 97753.02999999993\n",
      "Capital Required in week 5 : 73595.56999999998\n",
      "Capital Used in week 5 : 73595.56999999998\n",
      "Capital Not Used in week 5 : 24158.68\n",
      "Revenue of week for sales 5 : 102850.88000000006\n",
      "Profit of week 5 : 29255.309999999987\n",
      "Opening Inventory Value of week  5 : 73595.56999999998\n",
      "Inventory value of week after Sales 5 : 0.0\n",
      "\n",
      "Capital Available in week 6 : 102850.88000000006\n",
      "Capital Required in week 6 : 76265.17999999996\n",
      "Capital Used in week 6 : 127004.39\n",
      "Capital Not Used in week 6 : 5.17\n",
      "Revenue of week for sales 6 : 105954.84999999998\n",
      "Profit of week 6 : 29689.66999999997\n",
      "Opening Inventory Value of week  6 : 127004.39\n",
      "Inventory value of week after Sales 6 : 50739.210000000036\n",
      "\n",
      "Capital Available in week 7 : 105954.84999999998\n",
      "Capital Required in week 7 : 75078.81999999999\n",
      "Capital Used in week 7 : 105957.90999999995\n",
      "Capital Not Used in week 7 : 2.11\n",
      "Revenue of week for sales 7 : 105701.59999999993\n",
      "Profit of week 7 : 30622.779999999988\n",
      "Opening Inventory Value of week  7 : 105957.90999999995\n",
      "Inventory value of week after Sales 7 : 30879.089999999953\n",
      "\n",
      "Capital Available in week 8 : 105701.59999999993\n",
      "Capital Required in week 8 : 72042.3300000001\n",
      "Capital Used in week 8 : 105698.64000000001\n",
      "Capital Not Used in week 8 : 5.07\n",
      "Revenue of week for sales 8 : 101296.59000000003\n",
      "Profit of week 8 : 29254.26\n",
      "Opening Inventory Value of week  8 : 105698.64000000001\n",
      "Inventory value of week after Sales 8 : 33656.30999999991\n",
      "\n",
      "Capital Available in week 9 : 101296.59000000003\n",
      "Capital Required in week 9 : 77892.31000000003\n",
      "Capital Used in week 9 : 101297.72000000006\n",
      "Capital Not Used in week 9 : 3.94\n",
      "Revenue of week for sales 9 : 111701.04000000012\n",
      "Profit of week 9 : 33808.729999999974\n",
      "Opening Inventory Value of week  9 : 101297.72000000006\n",
      "Inventory value of week after Sales 9 : 23405.410000000033\n",
      "\n",
      "Capital Available in week 10 : 111701.04000000012\n",
      "Capital Required in week 10 : 67088.25000000006\n",
      "Capital Used in week 10 : 67088.25000000006\n",
      "Capital Not Used in week 10 : 44616.73\n",
      "Revenue of week for sales 10 : 96021.22999999998\n",
      "Profit of week 10 : 28932.97999999999\n",
      "Opening Inventory Value of week  10 : 67088.25000000006\n",
      "Inventory value of week after Sales 10 : 0.0\n"
     ]
    }
   ],
   "source": [
    "for w in range(1,(we+1)) :\n",
    "    print(\"\\nCapital Available in week\",w,\":\",lpSum(y[s,p,w-1].varValue*Pprice[p] for s in stores for p in products))\n",
    "    print(\"Capital Required in week\",w,\":\",lpSum(sales[s,p,w]*Pcost[p] for s in stores for p in products))\n",
    "    print(\"Capital Used in week\",w,\":\",lpSum(x[s,p,w].varValue*Pcost[p] for s in stores for p in products))\n",
    "    print(\"Capital Not Used in week\",w,\":\",capital_unused[w].varValue)\n",
    "    print(\"Revenue of week for sales\",w,\":\",lpSum(y[s,p,w].varValue*Pprice[p] for s in stores for p in products))\n",
    "    print(\"Profit of week\",w,\":\",lpSum(y[s,p,w].varValue*Pprofit[p] for s in stores for p in products))\n",
    "    print(\"Opening Inventory Value of week \",w,\":\",lpSum(inventory[s,p,w].varValue*Pcost[p] for s in stores for p in products))\n",
    "    print(\"Inventory value of week after Sales\",w,\":\",lpSum(inventory[s,p,w].varValue*Pcost[p] for s in stores for p in products)-lpSum(y[s,p,w].varValue*Pcost[p] for s in stores for p in products))"
   ]
  }
 ],
 "metadata": {
  "kernelspec": {
   "display_name": "Python 3.11.0 64-bit",
   "language": "python",
   "name": "python3"
  },
  "language_info": {
   "codemirror_mode": {
    "name": "ipython",
    "version": 3
   },
   "file_extension": ".py",
   "mimetype": "text/x-python",
   "name": "python",
   "nbconvert_exporter": "python",
   "pygments_lexer": "ipython3",
   "version": "3.11.0"
  },
  "orig_nbformat": 4,
  "vscode": {
   "interpreter": {
    "hash": "5f80c455da1dc101d9f66a16923589bd6dbb3429340af280f1efed2f72025e97"
   }
  }
 },
 "nbformat": 4,
 "nbformat_minor": 2
}
