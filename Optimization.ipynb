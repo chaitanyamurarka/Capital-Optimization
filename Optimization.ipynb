{
 "cells": [
  {
   "cell_type": "markdown",
   "metadata": {},
   "source": [
    "# Importing required Libraries"
   ]
  },
  {
   "cell_type": "code",
   "execution_count": 69,
   "metadata": {},
   "outputs": [],
   "source": [
    "import pandas as pd\n",
    "#import numpy as np\n",
    "from pulp import *\n",
    "from num2words import *"
   ]
  },
  {
   "cell_type": "markdown",
   "metadata": {},
   "source": [
    "# Data Preprocessing"
   ]
  },
  {
   "cell_type": "code",
   "execution_count": 70,
   "metadata": {},
   "outputs": [],
   "source": [
    "inventory0 = pd.read_csv('inventory.csv')\n",
    "sales0 = pd.read_csv('Weekly-Sales.csv')\n",
    "productdesc0 = pd.read_csv('products.csv').set_index('Product_ID')\n",
    "stores0 = pd.read_csv('stores.csv')"
   ]
  },
  {
   "cell_type": "code",
   "execution_count": 71,
   "metadata": {},
   "outputs": [],
   "source": [
    "# Keeping More weeks will require more computation time\n",
    "week = [int]*6\n",
    "for i in range(0,6):\n",
    "    week[i] =i"
   ]
  },
  {
   "cell_type": "code",
   "execution_count": 72,
   "metadata": {},
   "outputs": [],
   "source": [
    "stores = [int]*50\n",
    "for i in range(0,50):\n",
    "    stores[i] = i+1\n",
    "products = [int]*35\n",
    "for i in range(0,35):\n",
    "    products[i]=i+1"
   ]
  },
  {
   "cell_type": "code",
   "execution_count": 73,
   "metadata": {},
   "outputs": [],
   "source": [
    "sales = {}\n",
    "for s in stores:\n",
    "    for p in products:\n",
    "        for w in week:\n",
    "            sales[(s,p,w)]=(sales0[(sales0['Store ID']==s)&(sales0['Product ID']==p)&(sales0['Week']==w)&(sales0['Year of Date']==2017)]['Count of sales'])\n",
    "            if len(sales[s,p,w]>0):\n",
    "                sales[s,p,w]=int(sales[s,p,w])\n",
    "            else:\n",
    "                sales[s,p,w]=0\n",
    "del sales0     "
   ]
  },
  {
   "cell_type": "code",
   "execution_count": 74,
   "metadata": {},
   "outputs": [],
   "source": [
    "openinginventory = {}\n",
    "for s in stores:\n",
    "    for p in products:\n",
    "        openinginventory[(s,p)]=inventory0[(inventory0['Store_ID']==s)&(inventory0['Product_ID']==p)]['Stock_On_Hand']\n",
    "        if len(openinginventory[(s,p)]>0):\n",
    "            openinginventory[(s,p)] = int(openinginventory[(s,p)])\n",
    "        else:\n",
    "            openinginventory[(s,p)] = 0\n",
    "del inventory0"
   ]
  },
  {
   "cell_type": "code",
   "execution_count": 75,
   "metadata": {},
   "outputs": [],
   "source": [
    "Pcost = {}\n",
    "Pprice = {}\n",
    "Pprofit = {}\n",
    "for p in products:\n",
    "    Pcost[p]=float(productdesc0.loc[p]['Product_Cost'][1:5])\n",
    "    Pprice[p]=float(productdesc0.loc[p]['Product_Price'][1:5])\n",
    "    Pprofit[p] = Pprice[p] - Pcost[p]\n"
   ]
  },
  {
   "cell_type": "markdown",
   "metadata": {},
   "source": [
    "# Model"
   ]
  },
  {
   "cell_type": "markdown",
   "metadata": {},
   "source": [
    "## Declaring Objective Variable"
   ]
  },
  {
   "cell_type": "code",
   "execution_count": 77,
   "metadata": {},
   "outputs": [],
   "source": [
    "# Objective Variable\n",
    "z = LpProblem('Maximize_the_profit',LpMaximize)"
   ]
  },
  {
   "cell_type": "markdown",
   "metadata": {},
   "source": [
    "## Decision Variables"
   ]
  },
  {
   "cell_type": "code",
   "execution_count": 78,
   "metadata": {},
   "outputs": [],
   "source": [
    "# Decision Variable\n",
    "x = LpVariable.dict('Buying',(stores,products,week),lowBound=0,cat='Integer')\n",
    "y = LpVariable.dict('Selling',(stores,products,week),lowBound=0,cat='Integer')\n",
    "capital = LpVariable.dict('Capital',(week),lowBound=0,cat='Continous')\n",
    "capital_unused = LpVariable.dict('Capital-Unused',(week),lowBound=0,cat='Continous')\n",
    "inventory = LpVariable.dict('Inventory',(stores,products,week),lowBound=0,cat='Integer')"
   ]
  },
  {
   "cell_type": "markdown",
   "metadata": {},
   "source": [
    "## Objective Function"
   ]
  },
  {
   "cell_type": "code",
   "execution_count": 80,
   "metadata": {},
   "outputs": [],
   "source": [
    "# Objective Function\n",
    "# Sell products with maximum cost to profit ratio\n",
    "z += lpSum(y[s,p,1]*Pprofit[p] for s in stores for p in products)"
   ]
  },
  {
   "cell_type": "markdown",
   "metadata": {},
   "source": [
    "## Constraints"
   ]
  },
  {
   "cell_type": "markdown",
   "metadata": {},
   "source": [
    "### Constraints related to capital"
   ]
  },
  {
   "cell_type": "code",
   "execution_count": 28,
   "metadata": {},
   "outputs": [],
   "source": [
    "for w in range(1,6):\n",
    "    # Weekly Purchase Cost should be less than available revenue\n",
    "    z += lpSum(x[s,p,w]*Pcost[p] for s in stores for p in products) + capital_unused[w] <= capital[w]\n",
    "    # Revenue are added to the capital of the company \n",
    "    z += capital[w] == lpSum(y[s,p,w-1]*Pprice[p] for s in stores for p in products) + capital_unused[w-1]"
   ]
  },
  {
   "cell_type": "code",
   "execution_count": 37,
   "metadata": {},
   "outputs": [],
   "source": [
    "for w in range(1,6):\n",
    "    for s in stores:\n",
    "        for p in products:\n",
    "            # We cannot sell more than our inventory\n",
    "            z += y[s,p,w] <= inventory[s,p,w]\n",
    "            # We cannot sell more than what demanded\n",
    "            z += y[s,p,w] <= sales[s,p,w]\n",
    "            # Inventory\n",
    "            z += inventory[s,p,w] == inventory[s,p,w-1] -y[s,p,w-1] + x[s,p,w]\n",
    "            # Buying\n",
    "            z += x[s,p,w] + inventory[s,p,w] <= sales[s,p,w]"
   ]
  },
  {
   "cell_type": "code",
   "execution_count": 38,
   "metadata": {},
   "outputs": [],
   "source": [
    "# Initial Capital we have\n",
    "z += capital[0] == 5000\n",
    "for s in stores:\n",
    "    for p in products:\n",
    "        z += inventory[s,p,0] == 0\n",
    "        z += y[s,p,0] == 0\n",
    "        z += x[s,p,0] == 0"
   ]
  },
  {
   "cell_type": "code",
   "execution_count": 39,
   "metadata": {},
   "outputs": [
    {
     "name": "stdout",
     "output_type": "stream",
     "text": [
      "Solution is : Infeasible\n",
      "The total profit is : 126596.43250000005\n",
      "Total Profit in Words : one lakh, twenty-six thousand, five hundred and ninety-six point four three two five zero zero zero zero zero zero five\n"
     ]
    }
   ],
   "source": [
    "status = z.solve()\n",
    "total_cost = value(z.objective)\n",
    "print(\"Solution is :\",LpStatus[status])\n",
    "print(\"The total profit is :\",total_cost)\n",
    "print(\"Total Profit in Words :\",(num2words(total_cost,lang='en_IN')))"
   ]
  },
  {
   "cell_type": "code",
   "execution_count": 42,
   "metadata": {},
   "outputs": [
    {
     "name": "stdout",
     "output_type": "stream",
     "text": [
      "\n",
      "Capital Available in Week 1 : None\n"
     ]
    },
    {
     "ename": "TypeError",
     "evalue": "unsupported operand type(s) for *: 'NoneType' and 'float'",
     "output_type": "error",
     "traceback": [
      "\u001b[1;31m---------------------------------------------------------------------------\u001b[0m",
      "\u001b[1;31mTypeError\u001b[0m                                 Traceback (most recent call last)",
      "Cell \u001b[1;32mIn [42], line 3\u001b[0m\n\u001b[0;32m      1\u001b[0m \u001b[39mfor\u001b[39;00m w \u001b[39min\u001b[39;00m \u001b[39mrange\u001b[39m(\u001b[39m1\u001b[39m,\u001b[39m2\u001b[39m):\n\u001b[0;32m      2\u001b[0m     \u001b[39mprint\u001b[39m(\u001b[39m\"\u001b[39m\u001b[39m\\n\u001b[39;00m\u001b[39mCapital Available in Week\u001b[39m\u001b[39m\"\u001b[39m,w,\u001b[39m\"\u001b[39m\u001b[39m:\u001b[39m\u001b[39m\"\u001b[39m,capital[w]\u001b[39m.\u001b[39mvarValue)\n\u001b[1;32m----> 3\u001b[0m     \u001b[39mprint\u001b[39m(\u001b[39m\"\u001b[39m\u001b[39mPurchase Cost of Week\u001b[39m\u001b[39m\"\u001b[39m,w,\u001b[39m\"\u001b[39m\u001b[39m:\u001b[39m\u001b[39m\"\u001b[39m,lpSum(x[s,p,w]\u001b[39m.\u001b[39;49mvarValue\u001b[39m*\u001b[39;49mPcost[p] \u001b[39mfor\u001b[39;49;00m s \u001b[39min\u001b[39;49;00m stores \u001b[39mfor\u001b[39;49;00m p \u001b[39min\u001b[39;49;00m products))\n\u001b[0;32m      4\u001b[0m     \u001b[39mprint\u001b[39m(\u001b[39m\"\u001b[39m\u001b[39mCapital Not Used in Week\u001b[39m\u001b[39m\"\u001b[39m,w,\u001b[39m\"\u001b[39m\u001b[39m:\u001b[39m\u001b[39m\"\u001b[39m,capital_unused[w]\u001b[39m.\u001b[39mvarValue)\n\u001b[0;32m      5\u001b[0m     \u001b[39mprint\u001b[39m(\u001b[39m\"\u001b[39m\u001b[39mProfit of Week\u001b[39m\u001b[39m\"\u001b[39m,w,\u001b[39m\"\u001b[39m\u001b[39m:\u001b[39m\u001b[39m\"\u001b[39m,lpSum(y[s,p,w]\u001b[39m.\u001b[39mvarValue\u001b[39m*\u001b[39mPprofit[p] \u001b[39mfor\u001b[39;00m s \u001b[39min\u001b[39;00m stores \u001b[39mfor\u001b[39;00m p \u001b[39min\u001b[39;00m products))\n",
      "File \u001b[1;32mc:\\Users\\ADMIN\\AppData\\Local\\Programs\\Python\\Python311\\Lib\\site-packages\\pulp\\pulp.py:2281\u001b[0m, in \u001b[0;36mlpSum\u001b[1;34m(vector)\u001b[0m\n\u001b[0;32m   2275\u001b[0m \u001b[39mdef\u001b[39;00m \u001b[39mlpSum\u001b[39m(vector):\n\u001b[0;32m   2276\u001b[0m     \u001b[39m\"\"\"\u001b[39;00m\n\u001b[0;32m   2277\u001b[0m \u001b[39m    Calculate the sum of a list of linear expressions\u001b[39;00m\n\u001b[0;32m   2278\u001b[0m \n\u001b[0;32m   2279\u001b[0m \u001b[39m    :param vector: A list of linear expressions\u001b[39;00m\n\u001b[0;32m   2280\u001b[0m \u001b[39m    \"\"\"\u001b[39;00m\n\u001b[1;32m-> 2281\u001b[0m     \u001b[39mreturn\u001b[39;00m LpAffineExpression()\u001b[39m.\u001b[39;49maddInPlace(vector)\n",
      "File \u001b[1;32mc:\\Users\\ADMIN\\AppData\\Local\\Programs\\Python\\Python311\\Lib\\site-packages\\pulp\\pulp.py:896\u001b[0m, in \u001b[0;36mLpAffineExpression.addInPlace\u001b[1;34m(self, other)\u001b[0m\n\u001b[0;32m    894\u001b[0m         \u001b[39mself\u001b[39m\u001b[39m.\u001b[39maddInPlace(e)\n\u001b[0;32m    895\u001b[0m \u001b[39melif\u001b[39;00m \u001b[39misinstance\u001b[39m(other, \u001b[39mlist\u001b[39m) \u001b[39mor\u001b[39;00m \u001b[39misinstance\u001b[39m(other, Iterable):\n\u001b[1;32m--> 896\u001b[0m     \u001b[39mfor\u001b[39;00m e \u001b[39min\u001b[39;00m other:\n\u001b[0;32m    897\u001b[0m         \u001b[39mself\u001b[39m\u001b[39m.\u001b[39maddInPlace(e)\n\u001b[0;32m    898\u001b[0m \u001b[39melse\u001b[39;00m:\n",
      "Cell \u001b[1;32mIn [42], line 3\u001b[0m, in \u001b[0;36m<genexpr>\u001b[1;34m(.0)\u001b[0m\n\u001b[0;32m      1\u001b[0m \u001b[39mfor\u001b[39;00m w \u001b[39min\u001b[39;00m \u001b[39mrange\u001b[39m(\u001b[39m1\u001b[39m,\u001b[39m2\u001b[39m):\n\u001b[0;32m      2\u001b[0m     \u001b[39mprint\u001b[39m(\u001b[39m\"\u001b[39m\u001b[39m\\n\u001b[39;00m\u001b[39mCapital Available in Week\u001b[39m\u001b[39m\"\u001b[39m,w,\u001b[39m\"\u001b[39m\u001b[39m:\u001b[39m\u001b[39m\"\u001b[39m,capital[w]\u001b[39m.\u001b[39mvarValue)\n\u001b[1;32m----> 3\u001b[0m     \u001b[39mprint\u001b[39m(\u001b[39m\"\u001b[39m\u001b[39mPurchase Cost of Week\u001b[39m\u001b[39m\"\u001b[39m,w,\u001b[39m\"\u001b[39m\u001b[39m:\u001b[39m\u001b[39m\"\u001b[39m,lpSum(x[s,p,w]\u001b[39m.\u001b[39;49mvarValue\u001b[39m*\u001b[39;49mPcost[p] \u001b[39mfor\u001b[39;00m s \u001b[39min\u001b[39;00m stores \u001b[39mfor\u001b[39;00m p \u001b[39min\u001b[39;00m products))\n\u001b[0;32m      4\u001b[0m     \u001b[39mprint\u001b[39m(\u001b[39m\"\u001b[39m\u001b[39mCapital Not Used in Week\u001b[39m\u001b[39m\"\u001b[39m,w,\u001b[39m\"\u001b[39m\u001b[39m:\u001b[39m\u001b[39m\"\u001b[39m,capital_unused[w]\u001b[39m.\u001b[39mvarValue)\n\u001b[0;32m      5\u001b[0m     \u001b[39mprint\u001b[39m(\u001b[39m\"\u001b[39m\u001b[39mProfit of Week\u001b[39m\u001b[39m\"\u001b[39m,w,\u001b[39m\"\u001b[39m\u001b[39m:\u001b[39m\u001b[39m\"\u001b[39m,lpSum(y[s,p,w]\u001b[39m.\u001b[39mvarValue\u001b[39m*\u001b[39mPprofit[p] \u001b[39mfor\u001b[39;00m s \u001b[39min\u001b[39;00m stores \u001b[39mfor\u001b[39;00m p \u001b[39min\u001b[39;00m products))\n",
      "\u001b[1;31mTypeError\u001b[0m: unsupported operand type(s) for *: 'NoneType' and 'float'"
     ]
    }
   ],
   "source": [
    "for w in range(1,2):\n",
    "    print(\"\\nCapital Available in Week\",w,\":\",capital[w].varValue)\n",
    "    print(\"Purchase Cost of Week\",w,\":\",lpSum(x[s,p,w].varValue*Pcost[p] for s in stores for p in products))\n",
    "    print(\"Capital Not Used in Week\",w,\":\",capital_unused[w].varValue)\n",
    "    print(\"Profit of Week\",w,\":\",lpSum(y[s,p,w].varValue*Pprofit[p] for s in stores for p in products))\n",
    "    print(\"Revenue of Week\",w,\":\",lpSum(y[s,p,w].varValue*Pprice[p] for s in stores for p in products))\n",
    "    print(\"Capital needed as per demand in week\",w,\":\",lpSum(sales[s,p,w]*Pcost[p] for s in stores for p in products))\n",
    "    print(\"Inventory value of week before Sales\",w,\":\",lpSum(inventory[s,p,w].varValue*Pcost[p] for s in stores for p in products))\n",
    "    print(\"Inventory value of week after Sales\",w,\":\",lpSum(inventory[s,p,w].varValue*Pcost[p] for s in stores for p in products)-lpSum(y[s,p,w].varValue*Pcost[p] for s in stores for p in products))"
   ]
  },
  {
   "cell_type": "code",
   "execution_count": 19,
   "metadata": {},
   "outputs": [],
   "source": [
    "for w in week:\n",
    "    for s in stores:\n",
    "        for p in products:\n",
    "           if (x[s,p,w].varValue > sales[s,p,w]):\n",
    "            print(x[s,p,w],\":\",x[s,p,w].varValue,\"::\",sales[s,p,w])"
   ]
  }
 ],
 "metadata": {
  "kernelspec": {
   "display_name": "Python 3.11.0 64-bit",
   "language": "python",
   "name": "python3"
  },
  "language_info": {
   "codemirror_mode": {
    "name": "ipython",
    "version": 3
   },
   "file_extension": ".py",
   "mimetype": "text/x-python",
   "name": "python",
   "nbconvert_exporter": "python",
   "pygments_lexer": "ipython3",
   "version": "3.11.0"
  },
  "orig_nbformat": 4,
  "vscode": {
   "interpreter": {
    "hash": "5f80c455da1dc101d9f66a16923589bd6dbb3429340af280f1efed2f72025e97"
   }
  }
 },
 "nbformat": 4,
 "nbformat_minor": 2
}
