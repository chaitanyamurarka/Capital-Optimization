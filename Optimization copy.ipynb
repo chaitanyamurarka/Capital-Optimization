{
 "cells": [
  {
   "cell_type": "markdown",
   "metadata": {},
   "source": [
    "# Importing required Libraries"
   ]
  },
  {
   "cell_type": "code",
   "execution_count": 1,
   "metadata": {},
   "outputs": [],
   "source": [
    "import pandas as pd\n",
    "from pulp import *\n",
    "from num2words import *"
   ]
  },
  {
   "cell_type": "markdown",
   "metadata": {},
   "source": [
    "# Data Preprocessing"
   ]
  },
  {
   "cell_type": "code",
   "execution_count": 2,
   "metadata": {},
   "outputs": [],
   "source": [
    "inventory0 = pd.read_csv('inventory.csv')\n",
    "sales0 = pd.read_csv('Weekly-Sales.csv')\n",
    "productdesc0 = pd.read_csv('products.csv').set_index('Product_ID')\n",
    "stores0 = pd.read_csv('stores.csv')"
   ]
  },
  {
   "cell_type": "code",
   "execution_count": 3,
   "metadata": {},
   "outputs": [],
   "source": [
    "# Keeping More weeks will require more computation time\n",
    "week = [None]*6\n",
    "for i in range(0,6):\n",
    "    week[i] =i"
   ]
  },
  {
   "cell_type": "code",
   "execution_count": 4,
   "metadata": {},
   "outputs": [],
   "source": [
    "stores = [None]*50\n",
    "for i in range(0,50):\n",
    "    stores[i] = i+1\n",
    "products = [None]*35\n",
    "for i in range(0,35):\n",
    "    products[i]=i+1"
   ]
  },
  {
   "cell_type": "code",
   "execution_count": 5,
   "metadata": {},
   "outputs": [],
   "source": [
    "sales = {}\n",
    "for s in stores:\n",
    "    for p in products:\n",
    "        for w in week:\n",
    "            sales[(s,p,w)]=(sales0[(sales0['Store ID']==s)&(sales0['Product ID']==p)&(sales0['Week']==w)&(sales0['Year of Date']==2017)]['Count of sales'])\n",
    "            if len(sales[s,p,w]>0):\n",
    "                sales[s,p,w]=int(sales[s,p,w])\n",
    "            else:\n",
    "                sales[s,p,w]=0\n",
    "del sales0     "
   ]
  },
  {
   "cell_type": "code",
   "execution_count": 6,
   "metadata": {},
   "outputs": [],
   "source": [
    "openinginventory = {}\n",
    "for s in stores:\n",
    "    for p in products:\n",
    "        openinginventory[(s,p)]=inventory0[(inventory0['Store_ID']==s)&(inventory0['Product_ID']==p)]['Stock_On_Hand']\n",
    "        if len(openinginventory[(s,p)]>0):\n",
    "            openinginventory[(s,p)] = int(openinginventory[(s,p)])\n",
    "        else:\n",
    "            openinginventory[(s,p)] = 0\n",
    "del inventory0"
   ]
  },
  {
   "cell_type": "code",
   "execution_count": 7,
   "metadata": {},
   "outputs": [],
   "source": [
    "Pcost = {}\n",
    "Pprice = {}\n",
    "Pprofit = {}\n",
    "for p in products:\n",
    "    Pcost[p]=float(productdesc0.loc[p]['Product_Cost'][1:5])\n",
    "    Pprice[p]=float(productdesc0.loc[p]['Product_Price'][1:5])\n",
    "    Pprofit[p] = Pprice[p] - Pcost[p]\n"
   ]
  },
  {
   "cell_type": "markdown",
   "metadata": {},
   "source": [
    "# Model"
   ]
  },
  {
   "cell_type": "markdown",
   "metadata": {},
   "source": [
    "## Declaring Objective Variable"
   ]
  },
  {
   "cell_type": "code",
   "execution_count": 8,
   "metadata": {},
   "outputs": [],
   "source": [
    "# Objective Variable\n",
    "z = LpProblem('Maximize_the_profit',LpMaximize)"
   ]
  },
  {
   "cell_type": "markdown",
   "metadata": {},
   "source": [
    "## Decision Variables"
   ]
  },
  {
   "cell_type": "code",
   "execution_count": 9,
   "metadata": {},
   "outputs": [],
   "source": [
    "# Decision Variable\n",
    "y = LpVariable.dict('Selling',(stores,products,week),lowBound=0,cat='Integer')\n",
    "capital_unused = LpVariable.dict('Selling',(week),lowBound=0,cat='Continous')"
   ]
  },
  {
   "cell_type": "markdown",
   "metadata": {},
   "source": [
    "## Objective Function"
   ]
  },
  {
   "cell_type": "code",
   "execution_count": 10,
   "metadata": {},
   "outputs": [],
   "source": [
    "# Objective Function\n",
    "# Sell products with maximum cost to profit ratio\n",
    "z += lpSum(y[s,p,w]*Pprofit[p] for s in stores for p in products for w in week) - lpSum(y[s,p,0]*Pprofit[p] for s in stores for p in products)"
   ]
  },
  {
   "cell_type": "markdown",
   "metadata": {},
   "source": [
    "## Constraints"
   ]
  },
  {
   "cell_type": "markdown",
   "metadata": {},
   "source": [
    "### Constraints related to capital"
   ]
  },
  {
   "cell_type": "code",
   "execution_count": 11,
   "metadata": {},
   "outputs": [],
   "source": [
    "for w in range(1,6):\n",
    "    z += lpSum(y[s,p,w]*Pcost[p] for s in stores for p in products) + capital_unused[w] == lpSum(y[s,p,w-1]*Pprice[p] for s in stores for p in products)\n",
    "z += lpSum(y[s,p,0]*Pprice[p] for s in stores for p in products) == 50000\n",
    "for s in stores:\n",
    "    for p in products:\n",
    "        for w in range(1,6):\n",
    "                z += y[s,p,w] <= sales[s,p,w]"
   ]
  },
  {
   "cell_type": "markdown",
   "metadata": {},
   "source": [
    "### Running our model"
   ]
  },
  {
   "cell_type": "code",
   "execution_count": 12,
   "metadata": {},
   "outputs": [
    {
     "name": "stdout",
     "output_type": "stream",
     "text": [
      "Solution is : Optimal\n",
      "The total profit is : 137149.27000000008\n",
      "Total Profit in Words : one lakh, thirty-seven thousand, one hundred and forty-nine point two seven zero zero zero zero zero zero zero zero seven\n"
     ]
    }
   ],
   "source": [
    "status = z.solve()\n",
    "total_profit = value(z.objective)\n",
    "print(\"Solution is :\",LpStatus[status])\n",
    "print(\"The total profit is :\",total_profit)\n",
    "print(\"Total Profit in Words :\",(num2words(total_profit,lang='en_IN')))"
   ]
  },
  {
   "cell_type": "markdown",
   "metadata": {},
   "source": [
    "### Checking for any disperancy "
   ]
  },
  {
   "cell_type": "code",
   "execution_count": 13,
   "metadata": {},
   "outputs": [
    {
     "name": "stdout",
     "output_type": "stream",
     "text": [
      "Selling_21_15_0 : 8195.0 :: 0\n",
      "Selling_27_25_0 : 305.0 :: 0\n"
     ]
    }
   ],
   "source": [
    "for w in range(1,6):\n",
    "    for s in stores:\n",
    "        for p in products:\n",
    "            if (y[s,p,w].varValue > sales[(s,p,w)]):\n",
    "                print(y[s,p,w],\":\",y[s,p,w].varValue,\"::\",sales[(s,p,w)])\n"
   ]
  },
  {
   "cell_type": "markdown",
   "metadata": {},
   "source": [
    "## Analyzing our Result"
   ]
  },
  {
   "cell_type": "code",
   "execution_count": 14,
   "metadata": {},
   "outputs": [
    {
     "name": "stdout",
     "output_type": "stream",
     "text": [
      "\n",
      "Capital Available in week 1 : 50000.0\n",
      "Capital Required in week 1 : 73571.75\n",
      "Capital Used in week 1 : 49997.59999999991\n",
      "Capital Not Used in week 1 : 2.4\n",
      "Revenue of week 1 : 76290.84999999995\n",
      "Profit of week 1 : 26293.249999999985\n",
      "\n",
      "Capital Available in week 2 : 76290.84999999995\n",
      "Capital Required in week 2 : 61901.439999999966\n",
      "Capital Used in week 2 : 61901.439999999966\n",
      "Capital Not Used in week 2 : 14389.41\n",
      "Revenue of week 2 : 87821.92000000004\n",
      "Profit of week 2 : 25920.479999999992\n",
      "\n",
      "Capital Available in week 3 : 87821.92000000004\n",
      "Capital Required in week 3 : 66469.01000000005\n",
      "Capital Used in week 3 : 66469.01000000005\n",
      "Capital Not Used in week 3 : 21352.91\n",
      "Revenue of week 3 : 93753.32999999999\n",
      "Profit of week 3 : 27284.31999999999\n",
      "\n",
      "Capital Available in week 4 : 93753.32999999999\n",
      "Capital Required in week 4 : 69357.11999999997\n",
      "Capital Used in week 4 : 69357.11999999997\n",
      "Capital Not Used in week 4 : 24396.21\n",
      "Revenue of week 4 : 97753.02999999993\n",
      "Profit of week 4 : 28395.90999999998\n",
      "\n",
      "Capital Available in week 5 : 97753.02999999993\n",
      "Capital Required in week 5 : 73595.56999999998\n",
      "Capital Used in week 5 : 73595.56999999998\n",
      "Capital Not Used in week 5 : 24157.46\n",
      "Revenue of week 5 : 102850.88000000006\n",
      "Profit of week 5 : 29255.309999999987\n"
     ]
    }
   ],
   "source": [
    "for w in range(1,6) :\n",
    "    print(\"\\nCapital Available in week\",w,\":\",lpSum(y[s,p,w-1].varValue*Pprice[p] for s in stores for p in products))\n",
    "    print(\"Capital Required in week\",w,\":\",lpSum(sales[s,p,w]*Pcost[p] for s in stores for p in products))\n",
    "    print(\"Capital Used in week\",w,\":\",lpSum(y[s,p,w].varValue*Pcost[p] for s in stores for p in products))\n",
    "    print(\"Capital Not Used in week\",w,\":\",capital_unused[w].varValue)\n",
    "    print(\"Revenue of week\",w,\":\",lpSum(y[s,p,w].varValue*Pprice[p] for s in stores for p in products))\n",
    "    print(\"Profit of week\",w,\":\",lpSum(y[s,p,w].varValue*Pprofit[p] for s in stores for p in products))\n",
    "\n",
    "    "
   ]
  },
  {
   "cell_type": "code",
   "execution_count": null,
   "metadata": {},
   "outputs": [],
   "source": []
  }
 ],
 "metadata": {
  "kernelspec": {
   "display_name": "Python 3.11.0 64-bit",
   "language": "python",
   "name": "python3"
  },
  "language_info": {
   "codemirror_mode": {
    "name": "ipython",
    "version": 3
   },
   "file_extension": ".py",
   "mimetype": "text/x-python",
   "name": "python",
   "nbconvert_exporter": "python",
   "pygments_lexer": "ipython3",
   "version": "3.11.0"
  },
  "orig_nbformat": 4,
  "vscode": {
   "interpreter": {
    "hash": "5f80c455da1dc101d9f66a16923589bd6dbb3429340af280f1efed2f72025e97"
   }
  }
 },
 "nbformat": 4,
 "nbformat_minor": 2
}
